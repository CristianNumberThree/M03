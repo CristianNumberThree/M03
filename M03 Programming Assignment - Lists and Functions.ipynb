{
 "cells": [
  {
   "cell_type": "markdown",
   "id": "6436eb20",
   "metadata": {},
   "source": [
    "7.4"
   ]
  },
  {
   "cell_type": "code",
   "execution_count": null,
   "id": "a86145f3",
   "metadata": {},
   "outputs": [],
   "source": [
    "things = [\"mozzarella\", \"cinderella\", \"salmonella\"]"
   ]
  },
  {
   "cell_type": "markdown",
   "id": "b493dc89",
   "metadata": {},
   "source": [
    "7.5"
   ]
  },
  {
   "cell_type": "code",
   "execution_count": 1,
   "id": "cadabcbc",
   "metadata": {},
   "outputs": [
    {
     "name": "stdout",
     "output_type": "stream",
     "text": [
      "['mozzarella', 'Cinderella', 'salmonella']\n"
     ]
    }
   ],
   "source": [
    "things = [\"mozzarella\", \"Cinderella\", \"salmonella\"]\n",
    "print(things)"
   ]
  },
  {
   "cell_type": "markdown",
   "id": "5e3b73d7",
   "metadata": {},
   "source": [
    "answer:no"
   ]
  },
  {
   "cell_type": "markdown",
   "id": "fb93cacc",
   "metadata": {},
   "source": [
    "7.6"
   ]
  },
  {
   "cell_type": "code",
   "execution_count": null,
   "id": "bc9a6b3f",
   "metadata": {},
   "outputs": [],
   "source": [
    "things = [\"MOZARELLA\", \"cinderella\", \"salmonella\"]"
   ]
  },
  {
   "cell_type": "markdown",
   "id": "3d961212",
   "metadata": {},
   "source": [
    "7.7"
   ]
  },
  {
   "cell_type": "code",
   "execution_count": null,
   "id": "28ac284e",
   "metadata": {},
   "outputs": [],
   "source": [
    "things = [\"mozzarella\", \"cinderella\"]"
   ]
  },
  {
   "cell_type": "markdown",
   "id": "a9e8acd6",
   "metadata": {},
   "source": [
    "THANK YOU FOR THE NOBEL PRIZE"
   ]
  },
  {
   "cell_type": "markdown",
   "id": "25607d5a",
   "metadata": {},
   "source": [
    "9.1"
   ]
  },
  {
   "cell_type": "code",
   "execution_count": null,
   "id": "7552c0b6",
   "metadata": {},
   "outputs": [],
   "source": [
    "def good():\n",
    "    gryffindor=['Harry', 'Ron', 'Hermione']\n",
    "    print(gryffindor)\n",
    "good()"
   ]
  },
  {
   "cell_type": "markdown",
   "id": "d1513a8e",
   "metadata": {},
   "source": [
    "9.2"
   ]
  },
  {
   "cell_type": "code",
   "execution_count": null,
   "id": "fd0e83f3",
   "metadata": {},
   "outputs": [],
   "source": [
    "def get_odds():\n",
    "    for number in range(1,10,2):\n",
    "        yield number\n",
    "\n",
    "third = None\n",
    "for count, odd in enumerate(get_odds(), start=1):\n",
    "    if count == 3:\n",
    "        third = odd\n",
    "        break\n",
    "\n",
    "print(third)"
   ]
  },
  {
   "cell_type": "markdown",
   "id": "2a236732",
   "metadata": {},
   "source": [
    "5"
   ]
  }
 ],
 "metadata": {
  "kernelspec": {
   "display_name": "Python 3 (ipykernel)",
   "language": "python",
   "name": "python3"
  },
  "language_info": {
   "codemirror_mode": {
    "name": "ipython",
    "version": 3
   },
   "file_extension": ".py",
   "mimetype": "text/x-python",
   "name": "python",
   "nbconvert_exporter": "python",
   "pygments_lexer": "ipython3",
   "version": "3.11.5"
  }
 },
 "nbformat": 4,
 "nbformat_minor": 5
}
